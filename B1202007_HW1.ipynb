{
  "nbformat": 4,
  "nbformat_minor": 0,
  "metadata": {
    "colab": {
      "provenance": []
    },
    "kernelspec": {
      "name": "python3",
      "display_name": "Python 3"
    },
    "language_info": {
      "name": "python"
    }
  },
  "cells": [
    {
      "cell_type": "code",
      "execution_count": 6,
      "metadata": {
        "colab": {
          "base_uri": "https://localhost:8080/"
        },
        "id": "nAp5NGgQIz_5",
        "outputId": "a80d2ef0-60cf-473d-a5a5-a4f482377ae3"
      },
      "outputs": [
        {
          "output_type": "stream",
          "name": "stdout",
          "text": [
            "I'm a student\n"
          ]
        }
      ],
      "source": [
        "print(\"I'm a student\")"
      ]
    },
    {
      "cell_type": "code",
      "source": [
        "import math\n",
        "a=int(input(\"輸入A的x1座標：\"))\n",
        "b=int(input(\"輸入A的y1座標：\"))\n",
        "c = int(input(\"輸入B的x1座標：\"))\n",
        "d = int(input(\"輸入B的y1座標：\"))\n",
        "e=(((a - c) * ((a - c))) + ((b - d) * (b - d)))\n",
        "print(math.sqrt(e))"
      ],
      "metadata": {
        "colab": {
          "base_uri": "https://localhost:8080/"
        },
        "id": "AO0sugEhJ4t0",
        "outputId": "426c6c4b-b71e-43f8-c763-714dd69b107f"
      },
      "execution_count": 23,
      "outputs": [
        {
          "output_type": "stream",
          "name": "stdout",
          "text": [
            "輸入A的x1座標：4\n",
            "輸入A的y1座標：5\n",
            "輸入B的x1座標：1\n",
            "輸入B的y1座標：1\n",
            "5.0\n"
          ]
        }
      ]
    },
    {
      "cell_type": "code",
      "source": [
        "from math import pow\n",
        "a=int(input(\"輸入體重（公斤）：\"))\n",
        "b=float(input(\"輸入身高（公尺）：\"))\n",
        "c = pow(b, 2)\n",
        "a /= c\n",
        "print('你的BMI為：', a)"
      ],
      "metadata": {
        "colab": {
          "base_uri": "https://localhost:8080/"
        },
        "id": "d7VGUgF1Oyby",
        "outputId": "0f0cf1f2-077e-4d65-fa32-a493d89d8716"
      },
      "execution_count": 28,
      "outputs": [
        {
          "output_type": "stream",
          "name": "stdout",
          "text": [
            "輸入體重（公斤）：82\n",
            "輸入身高（公尺）：1.7\n",
            "你的BMI為： 28.373702422145332\n"
          ]
        }
      ]
    },
    {
      "cell_type": "code",
      "source": [],
      "metadata": {
        "id": "yRSv3GCjJcEx"
      },
      "execution_count": null,
      "outputs": []
    }
  ]
}